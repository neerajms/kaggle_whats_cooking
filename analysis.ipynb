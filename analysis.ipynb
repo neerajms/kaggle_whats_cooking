{
 "cells": [
  {
   "cell_type": "code",
   "execution_count": null,
   "metadata": {},
   "outputs": [],
   "source": [
    "import pandas as pd"
   ]
  },
  {
   "cell_type": "code",
   "execution_count": null,
   "metadata": {},
   "outputs": [],
   "source": [
    "# Read training data from json into a dataframe\n",
    "train_data_df = pd.read_json('train.json')"
   ]
  },
  {
   "cell_type": "code",
   "execution_count": null,
   "metadata": {},
   "outputs": [],
   "source": [
    "train_data_df.head()"
   ]
  },
  {
   "cell_type": "code",
   "execution_count": null,
   "metadata": {},
   "outputs": [],
   "source": [
    "import matplotlib.pyplot as plt"
   ]
  },
  {
   "cell_type": "code",
   "execution_count": null,
   "metadata": {},
   "outputs": [],
   "source": [
    "train_data_df['cuisine'].value_counts().plot(kind='bar')"
   ]
  },
  {
   "cell_type": "code",
   "execution_count": null,
   "metadata": {},
   "outputs": [],
   "source": [
    "from collections import Counter"
   ]
  },
  {
   "cell_type": "code",
   "execution_count": null,
   "metadata": {},
   "outputs": [],
   "source": [
    "# Count the number of recipes in which a unique ingredient is appearing in each cuisine\n",
    "count_ingredients_cuisine = {}\n",
    "for cuisine in train_data_df['cuisine'].unique():\n",
    "    count_ingredients_cuisine[cuisine] = Counter()\n",
    "    cuisine_indices = (train_data_df['cuisine'] == cuisine)\n",
    "    for ingredients in train_data_df[cuisine_indices]['ingredients']:\n",
    "        count_ingredients_cuisine[cuisine].update(ingredients)"
   ]
  },
  {
   "cell_type": "code",
   "execution_count": 26,
   "metadata": {},
   "outputs": [
    {
     "data": {
      "text/plain": [
       "[('salt', 1934),\n",
       " ('onions', 1195),\n",
       " ('garam masala', 862),\n",
       " ('water', 820),\n",
       " ('ground turmeric', 728),\n",
       " ('garlic', 726),\n",
       " ('cumin seed', 697),\n",
       " ('ground cumin', 683),\n",
       " ('vegetable oil', 593),\n",
       " ('oil', 546),\n",
       " ('ginger', 526),\n",
       " ('tomatoes', 521),\n",
       " ('tumeric', 492),\n",
       " ('chili powder', 485),\n",
       " ('green chilies', 484)]"
      ]
     },
     "execution_count": 26,
     "metadata": {},
     "output_type": "execute_result"
    }
   ],
   "source": [
    "# The 15 most common ingredients in indian cuisine\n",
    "count_ingredients_cuisine['indian'].most_common(15)"
   ]
  },
  {
   "cell_type": "code",
   "execution_count": null,
   "metadata": {},
   "outputs": [],
   "source": [
    "# Create a dataframe of top 15 ingredients\n",
    "top15 = pd.DataFrame([[item[0] for item in count_ingredients_cuisine[cuisine]] \n",
    "                      for cuisine in count_ingredients_cuisine], \n",
    "                    index=[cuisine for cuisine in count_ingredients_cuisine], \n",
    "                    columns=['top{}'.format(i) for i in range(1, 16)]\n"
   ]
  },
  {
   "cell_type": "markdown",
   "metadata": {},
   "source": [
    "## Preprocessing"
   ]
  },
  {
   "cell_type": "code",
   "execution_count": null,
   "metadata": {},
   "outputs": [],
   "source": [
    "# Create a column in the dataframe which combines the ingredients to a string\n",
    "train_data_df['string_ingredients'] = train_data_df['ingredients'].map(';'.join)\n",
    "train_data_df.head()"
   ]
  },
  {
   "cell_type": "code",
   "execution_count": null,
   "metadata": {},
   "outputs": [],
   "source": [
    "# Distribution of an ingredient(mayonaise) in different cuisines\n",
    "indices_mayonaise = train_data_df['string_ingredients'].str.contains('mayonaise')\n",
    "train_data_df[indices_mayonaise]['cuisine'].value_counts().plot(kind='bar', title='distribution of mayonaise in different cuisines')"
   ]
  },
  {
   "cell_type": "code",
   "execution_count": null,
   "metadata": {},
   "outputs": [],
   "source": [
    "# Distribution of an ingredient(pepper) in different cuisines\n",
    "indices_pepper = train_data_df['string_ingredients'].str.contains('pepper')\n",
    "train_data_df[indices_pepper]['cuisine'].value_counts().plot(kind='bar', title='distribution of pepper in different cuisines')"
   ]
  },
  {
   "cell_type": "markdown",
   "metadata": {},
   "source": [
    "The number of recipes in different cuisines are different. So, it is better to plot the relative frequencies. The relative frequency can be calculated by dividing by the total number of recipes in that cuisine"
   ]
  },
  {
   "cell_type": "code",
   "execution_count": null,
   "metadata": {},
   "outputs": [],
   "source": [
    "relative_frequency_mayo = (train_data_df[indices_mayonaise]['cuisine'].value_counts() / \n",
    "                          train_data_df['cuisine'].value_counts())\n",
    "relative_frequency_mayo.sort_values(inplace=True)\n",
    "relative_frequency_mayo.plot(kind='bar', title='relative frequency of mayonaise')"
   ]
  },
  {
   "cell_type": "code",
   "execution_count": null,
   "metadata": {},
   "outputs": [],
   "source": [
    "relative_frequency_pepper = (train_data_df[indices_pepper]['cuisine'].value_counts() / \n",
    "                            train_data_df['cuisine'].value_counts())\n",
    "relative_frequency_pepper.sort_values(inplace=True)\n",
    "relative_frequency_pepper.plot(kind='bar', title='relative frequency of pepper')"
   ]
  },
  {
   "cell_type": "code",
   "execution_count": null,
   "metadata": {},
   "outputs": [],
   "source": [
    "# Separate train data\n",
    "train_data_list = [ingredients for ingredients in list(train_data_df['ingredients'])]\n",
    "train_data_list # A 2D list"
   ]
  },
  {
   "cell_type": "code",
   "execution_count": null,
   "metadata": {},
   "outputs": [],
   "source": [
    "# Separate train labels\n",
    "train_label_list = [cuisine for cuisine in list(train_data_df['cuisine'])]\n",
    "train_label_list"
   ]
  },
  {
   "cell_type": "code",
   "execution_count": null,
   "metadata": {},
   "outputs": [],
   "source": [
    "# Replace blank spaces with underscores\n",
    "def remove_white_space(list):\n",
    "    string_of_words = ''\n",
    "    for sublist in list:\n",
    "        string_of_words += ' '.join(string.replace(' ', '_') for string in sublist)\n",
    "    return string_of_words.split(' ')"
   ]
  },
  {
   "cell_type": "code",
   "execution_count": null,
   "metadata": {},
   "outputs": [],
   "source": [
    "from sklearn.feature_extraction.text import CountVectorizer"
   ]
  },
  {
   "cell_type": "code",
   "execution_count": null,
   "metadata": {},
   "outputs": [],
   "source": [
    "vectorizer = CountVectorizer(token_pattern='[a-zA-Z]+_*[a-zA-Z]+')\n",
    "train_data_vectorized = vectorizer.fit_transform(list_of_ingredients)\n",
    "print(train_data_vectorized)"
   ]
  },
  {
   "cell_type": "code",
   "execution_count": null,
   "metadata": {},
   "outputs": [],
   "source": [
    "vectorizer.vocabulary_"
   ]
  },
  {
   "cell_type": "code",
   "execution_count": null,
   "metadata": {},
   "outputs": [],
   "source": [
    "list_of_ingredients = remove_white_space(train_data_list)\n",
    "len(list_of_ingredients)\n",
    "list_of_ingredients"
   ]
  }
 ],
 "metadata": {
  "kernelspec": {
   "display_name": "Python 3",
   "language": "python",
   "name": "python3"
  },
  "language_info": {
   "codemirror_mode": {
    "name": "ipython",
    "version": 3
   },
   "file_extension": ".py",
   "mimetype": "text/x-python",
   "name": "python",
   "nbconvert_exporter": "python",
   "pygments_lexer": "ipython3",
   "version": "3.6.6"
  }
 },
 "nbformat": 4,
 "nbformat_minor": 2
}
