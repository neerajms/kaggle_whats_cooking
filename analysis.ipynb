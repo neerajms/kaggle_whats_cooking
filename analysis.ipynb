{
 "cells": [
  {
   "cell_type": "code",
   "execution_count": 1,
   "metadata": {},
   "outputs": [],
   "source": [
    "import pandas as pd"
   ]
  },
  {
   "cell_type": "code",
   "execution_count": 2,
   "metadata": {},
   "outputs": [],
   "source": [
    "# Read training data from json into a dataframe\n",
    "train_data_df = pd.read_json('train.json')"
   ]
  },
  {
   "cell_type": "code",
   "execution_count": 3,
   "metadata": {},
   "outputs": [
    {
     "data": {
      "text/html": [
       "<div>\n",
       "<style scoped>\n",
       "    .dataframe tbody tr th:only-of-type {\n",
       "        vertical-align: middle;\n",
       "    }\n",
       "\n",
       "    .dataframe tbody tr th {\n",
       "        vertical-align: top;\n",
       "    }\n",
       "\n",
       "    .dataframe thead th {\n",
       "        text-align: right;\n",
       "    }\n",
       "</style>\n",
       "<table border=\"1\" class=\"dataframe\">\n",
       "  <thead>\n",
       "    <tr style=\"text-align: right;\">\n",
       "      <th></th>\n",
       "      <th>cuisine</th>\n",
       "      <th>id</th>\n",
       "      <th>ingredients</th>\n",
       "    </tr>\n",
       "  </thead>\n",
       "  <tbody>\n",
       "    <tr>\n",
       "      <th>0</th>\n",
       "      <td>greek</td>\n",
       "      <td>10259</td>\n",
       "      <td>[romaine lettuce, black olives, grape tomatoes...</td>\n",
       "    </tr>\n",
       "    <tr>\n",
       "      <th>1</th>\n",
       "      <td>southern_us</td>\n",
       "      <td>25693</td>\n",
       "      <td>[plain flour, ground pepper, salt, tomatoes, g...</td>\n",
       "    </tr>\n",
       "    <tr>\n",
       "      <th>2</th>\n",
       "      <td>filipino</td>\n",
       "      <td>20130</td>\n",
       "      <td>[eggs, pepper, salt, mayonaise, cooking oil, g...</td>\n",
       "    </tr>\n",
       "    <tr>\n",
       "      <th>3</th>\n",
       "      <td>indian</td>\n",
       "      <td>22213</td>\n",
       "      <td>[water, vegetable oil, wheat, salt]</td>\n",
       "    </tr>\n",
       "    <tr>\n",
       "      <th>4</th>\n",
       "      <td>indian</td>\n",
       "      <td>13162</td>\n",
       "      <td>[black pepper, shallots, cornflour, cayenne pe...</td>\n",
       "    </tr>\n",
       "  </tbody>\n",
       "</table>\n",
       "</div>"
      ],
      "text/plain": [
       "       cuisine     id                                        ingredients\n",
       "0        greek  10259  [romaine lettuce, black olives, grape tomatoes...\n",
       "1  southern_us  25693  [plain flour, ground pepper, salt, tomatoes, g...\n",
       "2     filipino  20130  [eggs, pepper, salt, mayonaise, cooking oil, g...\n",
       "3       indian  22213                [water, vegetable oil, wheat, salt]\n",
       "4       indian  13162  [black pepper, shallots, cornflour, cayenne pe..."
      ]
     },
     "execution_count": 3,
     "metadata": {},
     "output_type": "execute_result"
    }
   ],
   "source": [
    "train_data_df.head()"
   ]
  },
  {
   "cell_type": "code",
   "execution_count": 4,
   "metadata": {},
   "outputs": [],
   "source": [
    "import matplotlib.pyplot as plt"
   ]
  },
  {
   "cell_type": "code",
   "execution_count": 5,
   "metadata": {},
   "outputs": [
    {
     "data": {
      "text/plain": [
       "<matplotlib.axes._subplots.AxesSubplot at 0x7f62e9ed9710>"
      ]
     },
     "execution_count": 5,
     "metadata": {},
     "output_type": "execute_result"
    },
    {
     "data": {
      "image/png": "[encoded data removed]",
      "text/plain": [
       "<Figure size 432x288 with 1 Axes>"
      ]
     },
     "metadata": {},
     "output_type": "display_data"
    }
   ],
   "source": [
    "train_data_df['cuisine'].value_counts().plot(kind='bar')"
   ]
  },
  {
   "cell_type": "code",
   "execution_count": 6,
   "metadata": {},
   "outputs": [],
   "source": [
    "from collections import Counter"
   ]
  },
  {
   "cell_type": "code",
   "execution_count": 7,
   "metadata": {},
   "outputs": [],
   "source": [
    "# Count the number of recipes in which a unique ingredient is appearing in each cuisine\n",
    "count_ingredients_cuisine = {}\n",
    "for cuisine in train_data_df['cuisine'].unique():\n",
    "    count_ingredients_cuisine[cuisine] = Counter()\n",
    "    cuisine_indices = (train_data_df['cuisine'] == cuisine)\n",
    "    for ingredients in train_data_df[cuisine_indices]['ingredients']:\n",
    "        count_ingredients_cuisine[cuisine].update(ingredients)"
   ]
  },
  {
   "cell_type": "code",
   "execution_count": 8,
   "metadata": {},
   "outputs": [
    {
     "data": {
      "text/plain": [
       "[('salt', 1934),\n",
       " ('onions', 1195),\n",
       " ('garam masala', 862),\n",
       " ('water', 820),\n",
       " ('ground turmeric', 728),\n",
       " ('garlic', 726),\n",
       " ('cumin seed', 697),\n",
       " ('ground cumin', 683),\n",
       " ('vegetable oil', 593),\n",
       " ('oil', 546),\n",
       " ('ginger', 526),\n",
       " ('tomatoes', 521),\n",
       " ('tumeric', 492),\n",
       " ('chili powder', 485),\n",
       " ('green chilies', 484)]"
      ]
     },
     "execution_count": 8,
     "metadata": {},
     "output_type": "execute_result"
    }
   ],
   "source": [
    "# The 15 most common ingredients in indian cuisine\n",
    "count_ingredients_cuisine['indian'].most_common(15)"
   ]
  },
  {
   "cell_type": "code",
   "execution_count": 9,
   "metadata": {},
   "outputs": [
    {
     "data": {
      "text/html": [
       "<div>\n",
       "<style scoped>\n",
       "    .dataframe tbody tr th:only-of-type {\n",
       "        vertical-align: middle;\n",
       "    }\n",
       "\n",
       "    .dataframe tbody tr th {\n",
       "        vertical-align: top;\n",
       "    }\n",
       "\n",
       "    .dataframe thead th {\n",
       "        text-align: right;\n",
       "    }\n",
       "</style>\n",
       "<table border=\"1\" class=\"dataframe\">\n",
       "  <thead>\n",
       "    <tr style=\"text-align: right;\">\n",
       "      <th></th>\n",
       "      <th>top1</th>\n",
       "      <th>top2</th>\n",
       "      <th>top3</th>\n",
       "      <th>top4</th>\n",
       "      <th>top5</th>\n",
       "      <th>top6</th>\n",
       "      <th>top7</th>\n",
       "      <th>top8</th>\n",
       "      <th>top9</th>\n",
       "      <th>top10</th>\n",
       "      <th>top11</th>\n",
       "      <th>top12</th>\n",
       "      <th>top13</th>\n",
       "      <th>top14</th>\n",
       "      <th>top15</th>\n",
       "    </tr>\n",
       "  </thead>\n",
       "  <tbody>\n",
       "    <tr>\n",
       "      <th>greek</th>\n",
       "      <td>salt</td>\n",
       "      <td>olive oil</td>\n",
       "      <td>dried oregano</td>\n",
       "      <td>garlic cloves</td>\n",
       "      <td>feta cheese crumbles</td>\n",
       "      <td>extra-virgin olive oil</td>\n",
       "      <td>fresh lemon juice</td>\n",
       "      <td>ground black pepper</td>\n",
       "      <td>garlic</td>\n",
       "      <td>pepper</td>\n",
       "      <td>feta cheese</td>\n",
       "      <td>cucumber</td>\n",
       "      <td>purple onion</td>\n",
       "      <td>onions</td>\n",
       "      <td>lemon juice</td>\n",
       "    </tr>\n",
       "    <tr>\n",
       "      <th>southern_us</th>\n",
       "      <td>salt</td>\n",
       "      <td>butter</td>\n",
       "      <td>all-purpose flour</td>\n",
       "      <td>sugar</td>\n",
       "      <td>large eggs</td>\n",
       "      <td>baking powder</td>\n",
       "      <td>water</td>\n",
       "      <td>unsalted butter</td>\n",
       "      <td>milk</td>\n",
       "      <td>buttermilk</td>\n",
       "      <td>eggs</td>\n",
       "      <td>pepper</td>\n",
       "      <td>onions</td>\n",
       "      <td>ground black pepper</td>\n",
       "      <td>vanilla extract</td>\n",
       "    </tr>\n",
       "    <tr>\n",
       "      <th>filipino</th>\n",
       "      <td>salt</td>\n",
       "      <td>garlic</td>\n",
       "      <td>water</td>\n",
       "      <td>onions</td>\n",
       "      <td>soy sauce</td>\n",
       "      <td>pepper</td>\n",
       "      <td>oil</td>\n",
       "      <td>sugar</td>\n",
       "      <td>carrots</td>\n",
       "      <td>ground black pepper</td>\n",
       "      <td>fish sauce</td>\n",
       "      <td>bay leaves</td>\n",
       "      <td>vegetable oil</td>\n",
       "      <td>eggs</td>\n",
       "      <td>cooking oil</td>\n",
       "    </tr>\n",
       "    <tr>\n",
       "      <th>indian</th>\n",
       "      <td>salt</td>\n",
       "      <td>onions</td>\n",
       "      <td>garam masala</td>\n",
       "      <td>water</td>\n",
       "      <td>ground turmeric</td>\n",
       "      <td>garlic</td>\n",
       "      <td>cumin seed</td>\n",
       "      <td>ground cumin</td>\n",
       "      <td>vegetable oil</td>\n",
       "      <td>oil</td>\n",
       "      <td>ginger</td>\n",
       "      <td>tomatoes</td>\n",
       "      <td>tumeric</td>\n",
       "      <td>chili powder</td>\n",
       "      <td>green chilies</td>\n",
       "    </tr>\n",
       "    <tr>\n",
       "      <th>jamaican</th>\n",
       "      <td>salt</td>\n",
       "      <td>onions</td>\n",
       "      <td>water</td>\n",
       "      <td>garlic</td>\n",
       "      <td>ground allspice</td>\n",
       "      <td>pepper</td>\n",
       "      <td>scallions</td>\n",
       "      <td>dried thyme</td>\n",
       "      <td>black pepper</td>\n",
       "      <td>garlic cloves</td>\n",
       "      <td>vegetable oil</td>\n",
       "      <td>ground black pepper</td>\n",
       "      <td>sugar</td>\n",
       "      <td>ground cinnamon</td>\n",
       "      <td>brown sugar</td>\n",
       "    </tr>\n",
       "  </tbody>\n",
       "</table>\n",
       "</div>"
      ],
      "text/plain": [
       "             top1       top2               top3           top4  \\\n",
       "greek        salt  olive oil      dried oregano  garlic cloves   \n",
       "southern_us  salt     butter  all-purpose flour          sugar   \n",
       "filipino     salt     garlic              water         onions   \n",
       "indian       salt     onions       garam masala          water   \n",
       "jamaican     salt     onions              water         garlic   \n",
       "\n",
       "                             top5                    top6               top7  \\\n",
       "greek        feta cheese crumbles  extra-virgin olive oil  fresh lemon juice   \n",
       "southern_us            large eggs           baking powder              water   \n",
       "filipino                soy sauce                  pepper                oil   \n",
       "indian            ground turmeric                  garlic         cumin seed   \n",
       "jamaican          ground allspice                  pepper          scallions   \n",
       "\n",
       "                            top8           top9                top10  \\\n",
       "greek        ground black pepper         garlic               pepper   \n",
       "southern_us      unsalted butter           milk           buttermilk   \n",
       "filipino                   sugar        carrots  ground black pepper   \n",
       "indian              ground cumin  vegetable oil                  oil   \n",
       "jamaican             dried thyme   black pepper        garlic cloves   \n",
       "\n",
       "                     top11                top12          top13  \\\n",
       "greek          feta cheese             cucumber   purple onion   \n",
       "southern_us           eggs               pepper         onions   \n",
       "filipino        fish sauce           bay leaves  vegetable oil   \n",
       "indian              ginger             tomatoes        tumeric   \n",
       "jamaican     vegetable oil  ground black pepper          sugar   \n",
       "\n",
       "                           top14            top15  \n",
       "greek                     onions      lemon juice  \n",
       "southern_us  ground black pepper  vanilla extract  \n",
       "filipino                    eggs      cooking oil  \n",
       "indian              chili powder    green chilies  \n",
       "jamaican         ground cinnamon      brown sugar  "
      ]
     },
     "execution_count": 9,
     "metadata": {},
     "output_type": "execute_result"
    }
   ],
   "source": [
    "# Create a dataframe of top 15 ingredients\n",
    "top15 = pd.DataFrame([[item[0] for item in count_ingredients_cuisine[cuisine].most_common(15)] \n",
    "                      for cuisine in count_ingredients_cuisine], \n",
    "                    index=[cuisine for cuisine in count_ingredients_cuisine], \n",
    "                    columns=['top{}'.format(i) for i in range(1, 16)])\n",
    "top15.head()"
   ]
  },
  {
   "cell_type": "markdown",
   "metadata": {},
   "source": [
    "## Preprocessing"
   ]
  },
  {
   "cell_type": "code",
   "execution_count": 10,
   "metadata": {},
   "outputs": [
    {
     "data": {
      "text/html": [
       "<div>\n",
       "<style scoped>\n",
       "    .dataframe tbody tr th:only-of-type {\n",
       "        vertical-align: middle;\n",
       "    }\n",
       "\n",
       "    .dataframe tbody tr th {\n",
       "        vertical-align: top;\n",
       "    }\n",
       "\n",
       "    .dataframe thead th {\n",
       "        text-align: right;\n",
       "    }\n",
       "</style>\n",
       "<table border=\"1\" class=\"dataframe\">\n",
       "  <thead>\n",
       "    <tr style=\"text-align: right;\">\n",
       "      <th></th>\n",
       "      <th>cuisine</th>\n",
       "      <th>id</th>\n",
       "      <th>ingredients</th>\n",
       "      <th>string_ingredients</th>\n",
       "    </tr>\n",
       "  </thead>\n",
       "  <tbody>\n",
       "    <tr>\n",
       "      <th>0</th>\n",
       "      <td>greek</td>\n",
       "      <td>10259</td>\n",
       "      <td>[romaine lettuce, black olives, grape tomatoes...</td>\n",
       "      <td>romaine lettuce;black olives;grape tomatoes;ga...</td>\n",
       "    </tr>\n",
       "    <tr>\n",
       "      <th>1</th>\n",
       "      <td>southern_us</td>\n",
       "      <td>25693</td>\n",
       "      <td>[plain flour, ground pepper, salt, tomatoes, g...</td>\n",
       "      <td>plain flour;ground pepper;salt;tomatoes;ground...</td>\n",
       "    </tr>\n",
       "    <tr>\n",
       "      <th>2</th>\n",
       "      <td>filipino</td>\n",
       "      <td>20130</td>\n",
       "      <td>[eggs, pepper, salt, mayonaise, cooking oil, g...</td>\n",
       "      <td>eggs;pepper;salt;mayonaise;cooking oil;green c...</td>\n",
       "    </tr>\n",
       "    <tr>\n",
       "      <th>3</th>\n",
       "      <td>indian</td>\n",
       "      <td>22213</td>\n",
       "      <td>[water, vegetable oil, wheat, salt]</td>\n",
       "      <td>water;vegetable oil;wheat;salt</td>\n",
       "    </tr>\n",
       "    <tr>\n",
       "      <th>4</th>\n",
       "      <td>indian</td>\n",
       "      <td>13162</td>\n",
       "      <td>[black pepper, shallots, cornflour, cayenne pe...</td>\n",
       "      <td>black pepper;shallots;cornflour;cayenne pepper...</td>\n",
       "    </tr>\n",
       "  </tbody>\n",
       "</table>\n",
       "</div>"
      ],
      "text/plain": [
       "       cuisine     id                                        ingredients  \\\n",
       "0        greek  10259  [romaine lettuce, black olives, grape tomatoes...   \n",
       "1  southern_us  25693  [plain flour, ground pepper, salt, tomatoes, g...   \n",
       "2     filipino  20130  [eggs, pepper, salt, mayonaise, cooking oil, g...   \n",
       "3       indian  22213                [water, vegetable oil, wheat, salt]   \n",
       "4       indian  13162  [black pepper, shallots, cornflour, cayenne pe...   \n",
       "\n",
       "                                  string_ingredients  \n",
       "0  romaine lettuce;black olives;grape tomatoes;ga...  \n",
       "1  plain flour;ground pepper;salt;tomatoes;ground...  \n",
       "2  eggs;pepper;salt;mayonaise;cooking oil;green c...  \n",
       "3                     water;vegetable oil;wheat;salt  \n",
       "4  black pepper;shallots;cornflour;cayenne pepper...  "
      ]
     },
     "execution_count": 10,
     "metadata": {},
     "output_type": "execute_result"
    }
   ],
   "source": [
    "# Create a column in the dataframe which combines the ingredients to a string\n",
    "train_data_df['string_ingredients'] = train_data_df['ingredients'].map(';'.join)\n",
    "train_data_df.head()"
   ]
  },
  {
   "cell_type": "code",
   "execution_count": 11,
   "metadata": {},
   "outputs": [
    {
     "data": {
      "text/plain": [
       "<matplotlib.axes._subplots.AxesSubplot at 0x7f62e9dd05c0>"
      ]
     },
     "execution_count": 11,
     "metadata": {},
     "output_type": "execute_result"
    },
    {
     "data": {
      "image/png": "[encoded data removed]",
      "text/plain": [
       "<Figure size 432x288 with 1 Axes>"
      ]
     },
     "metadata": {},
     "output_type": "display_data"
    }
   ],
   "source": [
    "# Distribution of an ingredient(mayonaise) in different cuisines\n",
    "indices_mayonaise = train_data_df['string_ingredients'].str.contains('mayonaise')\n",
    "train_data_df[indices_mayonaise]['cuisine'].value_counts().plot(kind='bar', title='distribution of mayonaise in different cuisines')"
   ]
  },
  {
   "cell_type": "code",
   "execution_count": 12,
   "metadata": {},
   "outputs": [
    {
     "data": {
      "text/plain": [
       "<matplotlib.axes._subplots.AxesSubplot at 0x7f62e9cae0b8>"
      ]
     },
     "execution_count": 12,
     "metadata": {},
     "output_type": "execute_result"
    },
    {
     "data": {
      "image/png": "[encoded data removed]",
      "text/plain": [
       "<Figure size 432x288 with 1 Axes>"
      ]
     },
     "metadata": {},
     "output_type": "display_data"
    }
   ],
   "source": [
    "# Distribution of an ingredient(pepper) in different cuisines\n",
    "indices_pepper = train_data_df['string_ingredients'].str.contains('pepper')\n",
    "train_data_df[indices_pepper]['cuisine'].value_counts().plot(kind='bar', title='distribution of pepper in different cuisines')"
   ]
  },
  {
   "cell_type": "markdown",
   "metadata": {},
   "source": [
    "The number of recipes in different cuisines are different. So, it is better to plot the relative frequencies. The relative frequency can be calculated by dividing by the total number of recipes in that cuisine"
   ]
  },
  {
   "cell_type": "code",
   "execution_count": 13,
   "metadata": {},
   "outputs": [
    {
     "data": {
      "text/plain": [
       "<matplotlib.axes._subplots.AxesSubplot at 0x7f62e9c084e0>"
      ]
     },
     "execution_count": 13,
     "metadata": {},
     "output_type": "execute_result"
    },
    {
     "data": {
      "image/png": "[encoded data removed]",
      "text/plain": [
       "<Figure size 432x288 with 1 Axes>"
      ]
     },
     "metadata": {},
     "output_type": "display_data"
    }
   ],
   "source": [
    "relative_frequency_mayo = (train_data_df[indices_mayonaise]['cuisine'].value_counts() / \n",
    "                          train_data_df['cuisine'].value_counts())\n",
    "relative_frequency_mayo.sort_values(inplace=True)\n",
    "relative_frequency_mayo.plot(kind='bar', title='relative frequency of mayonaise')"
   ]
  },
  {
   "cell_type": "code",
   "execution_count": 14,
   "metadata": {},
   "outputs": [
    {
     "data": {
      "text/plain": [
       "<matplotlib.axes._subplots.AxesSubplot at 0x7f62e9adcac8>"
      ]
     },
     "execution_count": 14,
     "metadata": {},
     "output_type": "execute_result"
    },
    {
     "data": {
      "image/png": "[encoded data removed]",
      "text/plain": [
       "<Figure size 432x288 with 1 Axes>"
      ]
     },
     "metadata": {},
     "output_type": "display_data"
    }
   ],
   "source": [
    "relative_frequency_pepper = (train_data_df[indices_pepper]['cuisine'].value_counts() / \n",
    "                            train_data_df['cuisine'].value_counts())\n",
    "relative_frequency_pepper.sort_values(inplace=True)\n",
    "relative_frequency_pepper.plot(kind='bar', title='relative frequency of pepper')"
   ]
  },
  {
   "cell_type": "code",
   "execution_count": 15,
   "metadata": {},
   "outputs": [],
   "source": [
    "import numpy as np"
   ]
  },
  {
   "cell_type": "code",
   "execution_count": 16,
   "metadata": {},
   "outputs": [
    {
     "data": {
      "text/plain": [
       "array(['Gochujang base', 'all-purpose flour', 'avocado', 'baking powder',\n",
       "       'baking soda', 'bay leaves', 'beansprouts', 'black pepper',\n",
       "       'brown sugar', 'butter', 'buttermilk', 'cachaca',\n",
       "       'cajun seasoning', 'carrots', 'cayenne pepper', 'celery',\n",
       "       'chili powder', 'chopped cilantro fresh', 'coconut milk',\n",
       "       'cooking oil', 'corn starch', 'corn tortillas', 'couscous',\n",
       "       'cucumber', 'cumin seed', 'dried oregano', 'dried thyme',\n",
       "       'dry white wine', 'eggs', 'extra-virgin olive oil', 'feta cheese',\n",
       "       'feta cheese crumbles', 'fish sauce', 'flour', 'fresh basil',\n",
       "       'fresh ginger', 'fresh lemon juice', 'fresh lime juice',\n",
       "       'fresh parsley', 'garam masala', 'garlic', 'garlic cloves',\n",
       "       'ginger', 'grated parmesan cheese', 'green bell pepper',\n",
       "       'green chilies', 'green onions', 'ground allspice',\n",
       "       'ground black pepper', 'ground cinnamon', 'ground coriander',\n",
       "       'ground cumin', 'ground ginger', 'ground turmeric', 'heavy cream',\n",
       "       'jalapeno chilies', 'kosher salt', 'large eggs', 'lemon juice',\n",
       "       'lemongrass', 'lime', 'lime juice', 'milk', 'mirin', 'oil',\n",
       "       'olive oil', 'onions', 'paprika', 'pepper', 'potatoes',\n",
       "       'purple onion', 'red bell pepper', 'rice vinegar', 'sake', 'salsa',\n",
       "       'salt', 'scallions', 'sesame oil', 'sesame seeds', 'shallots',\n",
       "       'sour cream', 'soy sauce', 'sugar', 'sweetened condensed milk',\n",
       "       'tomatoes', 'tumeric', 'unsalted butter', 'vanilla extract',\n",
       "       'vegetable oil', 'water'], dtype=object)"
      ]
     },
     "execution_count": 16,
     "metadata": {},
     "output_type": "execute_result"
    }
   ],
   "source": [
    "# Unique ingredients in the top 15\n",
    "unique = np.unique(top15.values.ravel())\n",
    "unique"
   ]
  },
  {
   "cell_type": "code",
   "execution_count": 17,
   "metadata": {},
   "outputs": [
    {
     "data": {
      "text/plain": [
       "90"
      ]
     },
     "execution_count": 17,
     "metadata": {},
     "output_type": "execute_result"
    }
   ],
   "source": [
    "len(unique)"
   ]
  },
  {
   "cell_type": "code",
   "execution_count": null,
   "metadata": {},
   "outputs": [],
   "source": [
    "# A subplot of the distribution of the most common uniques in different cuisines\n",
    "fig, axes = plt.subplots(15, 6, figsize=(15,25))\n",
    "for ingredient, ax_index in zip(unique, range(90)):\n",
    "    indices = train_data_df['string_ingredients'].str.contains(ingredient)\n",
    "    relative_freq = (train_data_df[indices]['cuisine'].value_counts() / \n",
    "                    train_data_df['cuisine'].value_counts())\n",
    "    relative_freq.plot(kind='bar', ax=axes.ravel()[ax_index], title=ingredient)"
   ]
  },
  {
   "cell_type": "markdown",
   "metadata": {},
   "source": [
    "Some of the distinguishing ingredients can be found out from the plot.\n",
    "For example, garam masala is mostly used in indian recipes. Salsa is mostly used in mexican recipes. Ground allspice is used in jamaican recipes."
   ]
  },
  {
   "cell_type": "code",
   "execution_count": null,
   "metadata": {},
   "outputs": [],
   "source": [
    "# Separate train data\n",
    "train_data_list = [ingredients for ingredients in list(train_data_df['ingredients'])]\n",
    "train_data_list # A 2D list"
   ]
  },
  {
   "cell_type": "code",
   "execution_count": null,
   "metadata": {},
   "outputs": [],
   "source": [
    "# Separate train labels\n",
    "train_label_list = [cuisine for cuisine in list(train_data_df['cuisine'])]\n",
    "train_label_list"
   ]
  },
  {
   "cell_type": "code",
   "execution_count": null,
   "metadata": {},
   "outputs": [],
   "source": [
    "# Replace blank spaces with underscores\n",
    "def remove_white_space(list):\n",
    "    string_of_words = ''\n",
    "    for sublist in list:\n",
    "        string_of_words += ' '.join(string.replace(' ', '_') for string in sublist)\n",
    "    return string_of_words.split(' ')"
   ]
  },
  {
   "cell_type": "code",
   "execution_count": null,
   "metadata": {},
   "outputs": [],
   "source": [
    "from sklearn.feature_extraction.text import CountVectorizer"
   ]
  },
  {
   "cell_type": "code",
   "execution_count": null,
   "metadata": {},
   "outputs": [],
   "source": [
    "vectorizer = CountVectorizer(token_pattern='[a-zA-Z]+_*[a-zA-Z]+')\n",
    "train_data_vectorized = vectorizer.fit_transform(list_of_ingredients)\n",
    "print(train_data_vectorized)"
   ]
  },
  {
   "cell_type": "code",
   "execution_count": null,
   "metadata": {},
   "outputs": [],
   "source": [
    "vectorizer.vocabulary_"
   ]
  },
  {
   "cell_type": "code",
   "execution_count": null,
   "metadata": {},
   "outputs": [],
   "source": [
    "list_of_ingredients = remove_white_space(train_data_list)\n",
    "len(list_of_ingredients)\n",
    "list_of_ingredients"
   ]
  }
 ],
 "metadata": {
  "kernelspec": {
   "display_name": "Python 3",
   "language": "python",
   "name": "python3"
  },
  "language_info": {
   "codemirror_mode": {
    "name": "ipython",
    "version": 3
   },
   "file_extension": ".py",
   "mimetype": "text/x-python",
   "name": "python",
   "nbconvert_exporter": "python",
   "pygments_lexer": "ipython3",
   "version": "3.6.6"
  }
 },
 "nbformat": 4,
 "nbformat_minor": 2
}
