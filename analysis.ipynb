{
 "cells": [
  {
   "cell_type": "code",
   "execution_count": null,
   "metadata": {},
   "outputs": [],
   "source": [
    "import pandas as pd"
   ]
  },
  {
   "cell_type": "code",
   "execution_count": null,
   "metadata": {},
   "outputs": [],
   "source": [
    "# Read training data from json into a dataframe\n",
    "train_data_df = pd.read_json('train.json')"
   ]
  },
  {
   "cell_type": "code",
   "execution_count": null,
   "metadata": {},
   "outputs": [],
   "source": [
    "train_data_df.head()"
   ]
  },
  {
   "cell_type": "code",
   "execution_count": null,
   "metadata": {},
   "outputs": [],
   "source": [
    "import matplotlib.pyplot as plt"
   ]
  },
  {
   "cell_type": "code",
   "execution_count": null,
   "metadata": {},
   "outputs": [],
   "source": [
    "train_data_df['cuisine'].value_counts().plot(kind='bar')"
   ]
  },
  {
   "cell_type": "code",
   "execution_count": null,
   "metadata": {},
   "outputs": [],
   "source": [
    "from collections import Counter"
   ]
  },
  {
   "cell_type": "code",
   "execution_count": null,
   "metadata": {},
   "outputs": [],
   "source": [
    "# Count the number of recipes in which a unique ingredient is appearing in each cuisine\n",
    "count_ingredients_cuisine = {}\n",
    "for cuisine in train_data_df['cuisine'].unique():\n",
    "    count_ingredients_cuisine[cuisine] = Counter()\n",
    "    cuisine_indices = (train_data_df['cuisine'] == cuisine)\n",
    "    for ingredients in train_data_df[cuisine_indices]['ingredients']:\n",
    "        count_ingredients_cuisine[cuisine].update(ingredients)"
   ]
  },
  {
   "cell_type": "code",
   "execution_count": 26,
   "metadata": {},
   "outputs": [
    {
     "data": {
      "text/plain": [
       "[('salt', 1934),\n",
       " ('onions', 1195),\n",
       " ('garam masala', 862),\n",
       " ('water', 820),\n",
       " ('ground turmeric', 728),\n",
       " ('garlic', 726),\n",
       " ('cumin seed', 697),\n",
       " ('ground cumin', 683),\n",
       " ('vegetable oil', 593),\n",
       " ('oil', 546),\n",
       " ('ginger', 526),\n",
       " ('tomatoes', 521),\n",
       " ('tumeric', 492),\n",
       " ('chili powder', 485),\n",
       " ('green chilies', 484)]"
      ]
     },
     "execution_count": 26,
     "metadata": {},
     "output_type": "execute_result"
    }
   ],
   "source": [
    "# The 15 most common ingredients in indian cuisine\n",
    "count_ingredients_cuisine['indian'].most_common(15)"
   ]
  },
  {
   "cell_type": "code",
   "execution_count": 29,
   "metadata": {},
   "outputs": [
    {
     "data": {
      "text/html": [
       "<div>\n",
       "<style scoped>\n",
       "    .dataframe tbody tr th:only-of-type {\n",
       "        vertical-align: middle;\n",
       "    }\n",
       "\n",
       "    .dataframe tbody tr th {\n",
       "        vertical-align: top;\n",
       "    }\n",
       "\n",
       "    .dataframe thead th {\n",
       "        text-align: right;\n",
       "    }\n",
       "</style>\n",
       "<table border=\"1\" class=\"dataframe\">\n",
       "  <thead>\n",
       "    <tr style=\"text-align: right;\">\n",
       "      <th></th>\n",
       "      <th>top1</th>\n",
       "      <th>top2</th>\n",
       "      <th>top3</th>\n",
       "      <th>top4</th>\n",
       "      <th>top5</th>\n",
       "      <th>top6</th>\n",
       "      <th>top7</th>\n",
       "      <th>top8</th>\n",
       "      <th>top9</th>\n",
       "      <th>top10</th>\n",
       "      <th>top11</th>\n",
       "      <th>top12</th>\n",
       "      <th>top13</th>\n",
       "      <th>top14</th>\n",
       "      <th>top15</th>\n",
       "    </tr>\n",
       "  </thead>\n",
       "  <tbody>\n",
       "    <tr>\n",
       "      <th>greek</th>\n",
       "      <td>salt</td>\n",
       "      <td>olive oil</td>\n",
       "      <td>dried oregano</td>\n",
       "      <td>garlic cloves</td>\n",
       "      <td>feta cheese crumbles</td>\n",
       "      <td>extra-virgin olive oil</td>\n",
       "      <td>fresh lemon juice</td>\n",
       "      <td>ground black pepper</td>\n",
       "      <td>garlic</td>\n",
       "      <td>pepper</td>\n",
       "      <td>feta cheese</td>\n",
       "      <td>cucumber</td>\n",
       "      <td>purple onion</td>\n",
       "      <td>onions</td>\n",
       "      <td>lemon juice</td>\n",
       "    </tr>\n",
       "    <tr>\n",
       "      <th>southern_us</th>\n",
       "      <td>salt</td>\n",
       "      <td>butter</td>\n",
       "      <td>all-purpose flour</td>\n",
       "      <td>sugar</td>\n",
       "      <td>large eggs</td>\n",
       "      <td>baking powder</td>\n",
       "      <td>water</td>\n",
       "      <td>unsalted butter</td>\n",
       "      <td>milk</td>\n",
       "      <td>buttermilk</td>\n",
       "      <td>eggs</td>\n",
       "      <td>pepper</td>\n",
       "      <td>onions</td>\n",
       "      <td>ground black pepper</td>\n",
       "      <td>vanilla extract</td>\n",
       "    </tr>\n",
       "    <tr>\n",
       "      <th>filipino</th>\n",
       "      <td>salt</td>\n",
       "      <td>garlic</td>\n",
       "      <td>water</td>\n",
       "      <td>onions</td>\n",
       "      <td>soy sauce</td>\n",
       "      <td>pepper</td>\n",
       "      <td>oil</td>\n",
       "      <td>sugar</td>\n",
       "      <td>carrots</td>\n",
       "      <td>ground black pepper</td>\n",
       "      <td>fish sauce</td>\n",
       "      <td>bay leaves</td>\n",
       "      <td>vegetable oil</td>\n",
       "      <td>eggs</td>\n",
       "      <td>cooking oil</td>\n",
       "    </tr>\n",
       "    <tr>\n",
       "      <th>indian</th>\n",
       "      <td>salt</td>\n",
       "      <td>onions</td>\n",
       "      <td>garam masala</td>\n",
       "      <td>water</td>\n",
       "      <td>ground turmeric</td>\n",
       "      <td>garlic</td>\n",
       "      <td>cumin seed</td>\n",
       "      <td>ground cumin</td>\n",
       "      <td>vegetable oil</td>\n",
       "      <td>oil</td>\n",
       "      <td>ginger</td>\n",
       "      <td>tomatoes</td>\n",
       "      <td>tumeric</td>\n",
       "      <td>chili powder</td>\n",
       "      <td>green chilies</td>\n",
       "    </tr>\n",
       "    <tr>\n",
       "      <th>jamaican</th>\n",
       "      <td>salt</td>\n",
       "      <td>onions</td>\n",
       "      <td>water</td>\n",
       "      <td>garlic</td>\n",
       "      <td>ground allspice</td>\n",
       "      <td>pepper</td>\n",
       "      <td>scallions</td>\n",
       "      <td>dried thyme</td>\n",
       "      <td>black pepper</td>\n",
       "      <td>garlic cloves</td>\n",
       "      <td>vegetable oil</td>\n",
       "      <td>ground black pepper</td>\n",
       "      <td>sugar</td>\n",
       "      <td>ground cinnamon</td>\n",
       "      <td>brown sugar</td>\n",
       "    </tr>\n",
       "  </tbody>\n",
       "</table>\n",
       "</div>"
      ],
      "text/plain": [
       "             top1       top2               top3           top4  \\\n",
       "greek        salt  olive oil      dried oregano  garlic cloves   \n",
       "southern_us  salt     butter  all-purpose flour          sugar   \n",
       "filipino     salt     garlic              water         onions   \n",
       "indian       salt     onions       garam masala          water   \n",
       "jamaican     salt     onions              water         garlic   \n",
       "\n",
       "                             top5                    top6               top7  \\\n",
       "greek        feta cheese crumbles  extra-virgin olive oil  fresh lemon juice   \n",
       "southern_us            large eggs           baking powder              water   \n",
       "filipino                soy sauce                  pepper                oil   \n",
       "indian            ground turmeric                  garlic         cumin seed   \n",
       "jamaican          ground allspice                  pepper          scallions   \n",
       "\n",
       "                            top8           top9                top10  \\\n",
       "greek        ground black pepper         garlic               pepper   \n",
       "southern_us      unsalted butter           milk           buttermilk   \n",
       "filipino                   sugar        carrots  ground black pepper   \n",
       "indian              ground cumin  vegetable oil                  oil   \n",
       "jamaican             dried thyme   black pepper        garlic cloves   \n",
       "\n",
       "                     top11                top12          top13  \\\n",
       "greek          feta cheese             cucumber   purple onion   \n",
       "southern_us           eggs               pepper         onions   \n",
       "filipino        fish sauce           bay leaves  vegetable oil   \n",
       "indian              ginger             tomatoes        tumeric   \n",
       "jamaican     vegetable oil  ground black pepper          sugar   \n",
       "\n",
       "                           top14            top15  \n",
       "greek                     onions      lemon juice  \n",
       "southern_us  ground black pepper  vanilla extract  \n",
       "filipino                    eggs      cooking oil  \n",
       "indian              chili powder    green chilies  \n",
       "jamaican         ground cinnamon      brown sugar  "
      ]
     },
     "execution_count": 29,
     "metadata": {},
     "output_type": "execute_result"
    }
   ],
   "source": [
    "# Create a dataframe of top 15 ingredients\n",
    "top15 = pd.DataFrame([[item[0] for item in count_ingredients_cuisine[cuisine].most_common(15)] \n",
    "                      for cuisine in count_ingredients_cuisine], \n",
    "                    index=[cuisine for cuisine in count_ingredients_cuisine], \n",
    "                    columns=['top{}'.format(i) for i in range(1, 16)])\n",
    "top15.head()"
   ]
  },
  {
   "cell_type": "markdown",
   "metadata": {},
   "source": [
    "## Preprocessing"
   ]
  },
  {
   "cell_type": "code",
   "execution_count": null,
   "metadata": {},
   "outputs": [],
   "source": [
    "# Create a column in the dataframe which combines the ingredients to a string\n",
    "train_data_df['string_ingredients'] = train_data_df['ingredients'].map(';'.join)\n",
    "train_data_df.head()"
   ]
  },
  {
   "cell_type": "code",
   "execution_count": null,
   "metadata": {},
   "outputs": [],
   "source": [
    "# Distribution of an ingredient(mayonaise) in different cuisines\n",
    "indices_mayonaise = train_data_df['string_ingredients'].str.contains('mayonaise')\n",
    "train_data_df[indices_mayonaise]['cuisine'].value_counts().plot(kind='bar', title='distribution of mayonaise in different cuisines')"
   ]
  },
  {
   "cell_type": "code",
   "execution_count": null,
   "metadata": {},
   "outputs": [],
   "source": [
    "# Distribution of an ingredient(pepper) in different cuisines\n",
    "indices_pepper = train_data_df['string_ingredients'].str.contains('pepper')\n",
    "train_data_df[indices_pepper]['cuisine'].value_counts().plot(kind='bar', title='distribution of pepper in different cuisines')"
   ]
  },
  {
   "cell_type": "markdown",
   "metadata": {},
   "source": [
    "The number of recipes in different cuisines are different. So, it is better to plot the relative frequencies. The relative frequency can be calculated by dividing by the total number of recipes in that cuisine"
   ]
  },
  {
   "cell_type": "code",
   "execution_count": null,
   "metadata": {},
   "outputs": [],
   "source": [
    "relative_frequency_mayo = (train_data_df[indices_mayonaise]['cuisine'].value_counts() / \n",
    "                          train_data_df['cuisine'].value_counts())\n",
    "relative_frequency_mayo.sort_values(inplace=True)\n",
    "relative_frequency_mayo.plot(kind='bar', title='relative frequency of mayonaise')"
   ]
  },
  {
   "cell_type": "code",
   "execution_count": null,
   "metadata": {},
   "outputs": [],
   "source": [
    "relative_frequency_pepper = (train_data_df[indices_pepper]['cuisine'].value_counts() / \n",
    "                            train_data_df['cuisine'].value_counts())\n",
    "relative_frequency_pepper.sort_values(inplace=True)\n",
    "relative_frequency_pepper.plot(kind='bar', title='relative frequency of pepper')"
   ]
  },
  {
   "cell_type": "code",
   "execution_count": 30,
   "metadata": {},
   "outputs": [],
   "source": [
    "import numpy as np"
   ]
  },
  {
   "cell_type": "code",
   "execution_count": null,
   "metadata": {},
   "outputs": [],
   "source": [
    "# Unique ingredients in the top 15"
   ]
  },
  {
   "cell_type": "code",
   "execution_count": null,
   "metadata": {},
   "outputs": [],
   "source": [
    "# Separate train data\n",
    "train_data_list = [ingredients for ingredients in list(train_data_df['ingredients'])]\n",
    "train_data_list # A 2D list"
   ]
  },
  {
   "cell_type": "code",
   "execution_count": null,
   "metadata": {},
   "outputs": [],
   "source": [
    "# Separate train labels\n",
    "train_label_list = [cuisine for cuisine in list(train_data_df['cuisine'])]\n",
    "train_label_list"
   ]
  },
  {
   "cell_type": "code",
   "execution_count": null,
   "metadata": {},
   "outputs": [],
   "source": [
    "# Replace blank spaces with underscores\n",
    "def remove_white_space(list):\n",
    "    string_of_words = ''\n",
    "    for sublist in list:\n",
    "        string_of_words += ' '.join(string.replace(' ', '_') for string in sublist)\n",
    "    return string_of_words.split(' ')"
   ]
  },
  {
   "cell_type": "code",
   "execution_count": null,
   "metadata": {},
   "outputs": [],
   "source": [
    "from sklearn.feature_extraction.text import CountVectorizer"
   ]
  },
  {
   "cell_type": "code",
   "execution_count": null,
   "metadata": {},
   "outputs": [],
   "source": [
    "vectorizer = CountVectorizer(token_pattern='[a-zA-Z]+_*[a-zA-Z]+')\n",
    "train_data_vectorized = vectorizer.fit_transform(list_of_ingredients)\n",
    "print(train_data_vectorized)"
   ]
  },
  {
   "cell_type": "code",
   "execution_count": null,
   "metadata": {},
   "outputs": [],
   "source": [
    "vectorizer.vocabulary_"
   ]
  },
  {
   "cell_type": "code",
   "execution_count": null,
   "metadata": {},
   "outputs": [],
   "source": [
    "list_of_ingredients = remove_white_space(train_data_list)\n",
    "len(list_of_ingredients)\n",
    "list_of_ingredients"
   ]
  }
 ],
 "metadata": {
  "kernelspec": {
   "display_name": "Python 3",
   "language": "python",
   "name": "python3"
  },
  "language_info": {
   "codemirror_mode": {
    "name": "ipython",
    "version": 3
   },
   "file_extension": ".py",
   "mimetype": "text/x-python",
   "name": "python",
   "nbconvert_exporter": "python",
   "pygments_lexer": "ipython3",
   "version": "3.6.6"
  }
 },
 "nbformat": 4,
 "nbformat_minor": 2
}
